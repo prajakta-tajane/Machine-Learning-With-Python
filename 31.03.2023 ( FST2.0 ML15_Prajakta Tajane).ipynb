{
 "cells": [
  {
   "cell_type": "markdown",
   "id": "ab5ef75b",
   "metadata": {},
   "source": [
    "1. Find all of the words in a string that are less than 5 letters.            [2M]\n",
    "                                                    \n",
    "                             OR\n",
    "                             \n",
    "   Python program to display the sum of n numbers using the list\n"
   ]
  },
  {
   "cell_type": "code",
   "execution_count": 1,
   "id": "7c03b2d7",
   "metadata": {},
   "outputs": [
    {
     "name": "stdout",
     "output_type": "stream",
     "text": [
      "Sum of all elements:  236\n"
     ]
    }
   ],
   "source": [
    "# Creating a list\n",
    "list01 = [85, 45, 57, 25, 24]\n",
    "  \n",
    "# using sum() function\n",
    "total = sum(list01)\n",
    "  \n",
    "# printing total value\n",
    "print(\"Sum of all elements: \", total)"
   ]
  },
  {
   "cell_type": "code",
   "execution_count": 2,
   "id": "8dd6df2d",
   "metadata": {},
   "outputs": [
    {
     "name": "stdout",
     "output_type": "stream",
     "text": [
      "Enter the List Size :8\n",
      "Enter the List Numbers :1\n",
      "Enter the List Numbers :2\n",
      "Enter the List Numbers :3\n",
      "Enter the List Numbers :4\n",
      "Enter the List Numbers :5\n",
      "Enter the List Numbers :6\n",
      "Enter the List Numbers :8\n",
      "Enter the List Numbers :7\n",
      "Sum of List [1, 2, 3, 4, 5, 6, 8, 7] is 36\n"
     ]
    }
   ],
   "source": [
    "p = int(input(\"Enter the List Size :\"))\n",
    "list = []\n",
    "  \n",
    "for i in range(p):\n",
    "    num=int(input(\"Enter the List Numbers :\"))\n",
    "    list.append(num)\n",
    "    \n",
    "sum=0\n",
    "for num in list:\n",
    "    sum=sum+num\n",
    "    \n",
    "print(\"Sum of List\",list,\"is\",sum) "
   ]
  },
  {
   "cell_type": "markdown",
   "id": "920ab9c4",
   "metadata": {},
   "source": [
    "2. Use a dictionary comprehension to count the length of each word in a sentence.   [2M]\n",
    "                                                                \n",
    "                      OR\n",
    "                      \n",
    "   Python function which counts vowels and consonant in a word\n"
   ]
  },
  {
   "cell_type": "code",
   "execution_count": 3,
   "id": "7427a8aa",
   "metadata": {},
   "outputs": [],
   "source": [
    "listChar = ['@','g','&','11''$','p','!','7','12','j','x']\n",
    "\n",
    "#for count total no of elements in a list\n",
    "count = 0 \n",
    "\n",
    "# for count vowel\n",
    "vowel = 0 \n",
    "\n",
    "# for count consonants\n",
    "consonant = 0 \n",
    "\n",
    "# for count other than consonants and vowels\n",
    "other = 0 \n",
    "\n",
    "\n",
    "# Use loop for count eaxh elements\n",
    "for i in listChar : \n",
    "    count += 1\n",
    "    # check it is vowewl\n",
    "    if i in 'pjxg' : \n",
    "        # count vowel\n",
    "        vowel = vowel + 1 \n",
    "         # other than alphabets\n",
    "    elif i in '!@#$%^&*()+-*/123456789~`' :\n",
    "         # count other than alphabets elements\n",
    "        other = other + 1\n",
    "        # count consonants if above contion not satisfied\n",
    "    else :\n",
    "        consonant = consonant+ 1 "
   ]
  },
  {
   "cell_type": "code",
   "execution_count": 5,
   "id": "f734376e",
   "metadata": {},
   "outputs": [
    {
     "name": "stdout",
     "output_type": "stream",
     "text": [
      "total number of element in the list  :  10\n",
      "count vowels characters :  4\n",
      "count consonants characters :  1\n",
      "count other characters :  5\n"
     ]
    }
   ],
   "source": [
    "print (\"total number of element in the list  : \", count)\n",
    "print(\"count vowels characters : \",vowel)\n",
    "print(\"count consonants characters : \",consonant)\n",
    "print(\"count other characters : \",other)"
   ]
  },
  {
   "cell_type": "code",
   "execution_count": null,
   "id": "bf7b33b6",
   "metadata": {},
   "outputs": [],
   "source": []
  },
  {
   "cell_type": "markdown",
   "id": "21d55782",
   "metadata": {},
   "source": [
    "3.  Create an application using python which can perform the operations mentioned in the below image                 "
   ]
  },
  {
   "cell_type": "code",
   "execution_count": 6,
   "id": "d368b7a0",
   "metadata": {},
   "outputs": [],
   "source": [
    "class Atm:\n",
    "\n",
    "    \n",
    "    def __init__(self):\n",
    "            \n",
    "        self.pin= ''\n",
    "        self.balance = 0\n",
    "        self.menu()\n",
    "        \n",
    "        \n",
    "        \n",
    "    def menu(self):\n",
    "        user = input(\"\"\"\n",
    "        Welcome to State Bank of India\n",
    "        \n",
    "        1.  Please choose transactions : 1 \n",
    "        2.  Please choose transactions : 2\n",
    "        3.  Please choose transactions : 3 \n",
    "        4.  Please choose transactions : 4 \n",
    "        5.  Please choose transactions : 5 \n",
    "        6.  Please choose transactions : 6 \n",
    "        \"\"\")\n",
    "        print(\"1. Create_pin\")\n",
    "        print(\"2. Withdraw\")\n",
    "        print(\"3. Balance_Enquiry\")\n",
    "        print(\"4. Fast_Cash\")\n",
    "        print(\"5. Deposit\")\n",
    "        print(\"6. Exit\")\n",
    "        \n",
    "        if user == '1':\n",
    "            #print(\"Create pin\")\n",
    "            self.Create_pin()\n",
    "            \n",
    "    \n",
    "        elif user == '2':\n",
    "            #print(\"Withdraw amount is\")\n",
    "            self.Withdraw()\n",
    "        \n",
    "        elif user == '3':\n",
    "            #print(\"Balance amount is\") \n",
    "            self.Balance_Enquiry()\n",
    "            \n",
    "            \n",
    "        elif user == '4':\n",
    "            #print(\"Cash is\") \n",
    "            self.Fast_Cash()\n",
    "            \n",
    "        \n",
    "        elif user == '5':\n",
    "            #print(\"Deposit amount is\") \n",
    "            self.Deposit()\n",
    "            \n",
    "            \n",
    "        else:\n",
    "            print(\"Exit\")\n",
    "            \n",
    "            \n",
    "    def Create_pin(self):\n",
    "        self.pin = input(\"Create a pin : \")\n",
    "        print(\"Pin generated successfully\")\n",
    "        \n",
    "            \n",
    "            \n",
    "    def Withdraw(self):\n",
    "        temp = input(\"Enter your 4 digit pin number : \")\n",
    "        if temp == self.pin:\n",
    "            amount = int(input(\"Enter withdraw amount : \"))\n",
    "            if amount < self.balance:\n",
    "                self.balance=self.balance - amount\n",
    "                print(\"please take your amount : \")\n",
    "                \n",
    "            else:\n",
    "                print(\"Insufficient Balance \")\n",
    "                \n",
    "        else:\n",
    "            print(\"Invalid pin \")\n",
    "            \n",
    "            \n",
    "            \n",
    "            \n",
    "            \n",
    "    def Balance_Enquiry(self):\n",
    "        temp = input(\"Enter your pin : \")\n",
    "        if temp == self.pin:\n",
    "            print(self.balance)\n",
    "            \n",
    "        else:\n",
    "            print(\"Invalid pin \")\n",
    "            \n",
    "            \n",
    "            \n",
    "            \n",
    "    def Deposit(self):\n",
    "        temp = input(\"Enter your pin : \")\n",
    "        if temp == self.pin:\n",
    "            amount = int(input(\"Enter the amount : \"))\n",
    "            self.balance = self.balance + amount\n",
    "            print(\"Amount Deposit Successfully \")\n",
    "        else:\n",
    "            print(\"Invalid pin \")\n",
    "            \n",
    "            \n",
    "         \n",
    "    def Fast_Cash(self):\n",
    "            amount = int(input(\"Enter withdraw amount : \"))\n",
    "            if amount < self.balance:\n",
    "                self.balance=self.balance - amount\n",
    "                print(\"please take your amount : \")\n",
    "                \n",
    "            else:\n",
    "                print(\"Insufficient Balance \")\n",
    "                "
   ]
  },
  {
   "cell_type": "code",
   "execution_count": 7,
   "id": "e969fe5b",
   "metadata": {},
   "outputs": [
    {
     "name": "stdout",
     "output_type": "stream",
     "text": [
      "\n",
      "        Welcome to State Bank of India\n",
      "        \n",
      "        1.  Please choose transactions : 1 \n",
      "        2.  Please choose transactions : 2\n",
      "        3.  Please choose transactions : 3 \n",
      "        4.  Please choose transactions : 4 \n",
      "        5.  Please choose transactions : 5 \n",
      "        6.  Please choose transactions : 6 \n",
      "        1\n",
      "1. Create_pin\n",
      "2. Withdraw\n",
      "3. Balance_Enquiry\n",
      "4. Fast_Cash\n",
      "5. Deposit\n",
      "6. Exit\n",
      "Create a pin : 1212\n",
      "Pin generated successfully\n"
     ]
    }
   ],
   "source": [
    "a=Atm()"
   ]
  },
  {
   "cell_type": "code",
   "execution_count": 8,
   "id": "06ce1673",
   "metadata": {},
   "outputs": [
    {
     "name": "stdout",
     "output_type": "stream",
     "text": [
      "Enter your pin : 1212\n",
      "0\n"
     ]
    }
   ],
   "source": [
    "a.Balance_Enquiry()"
   ]
  },
  {
   "cell_type": "code",
   "execution_count": 9,
   "id": "d24eee88",
   "metadata": {},
   "outputs": [
    {
     "name": "stdout",
     "output_type": "stream",
     "text": [
      "Enter your pin : 1212\n",
      "Enter the amount : 50000\n",
      "Amount Deposit Successfully \n"
     ]
    }
   ],
   "source": [
    "a.Deposit()"
   ]
  },
  {
   "cell_type": "code",
   "execution_count": 10,
   "id": "e357a70f",
   "metadata": {},
   "outputs": [
    {
     "name": "stdout",
     "output_type": "stream",
     "text": [
      "Enter your 4 digit pin number : 1212\n",
      "Enter withdraw amount : 15000\n",
      "please take your amount : \n"
     ]
    }
   ],
   "source": [
    "a.Withdraw()"
   ]
  },
  {
   "cell_type": "code",
   "execution_count": 11,
   "id": "737212d8",
   "metadata": {},
   "outputs": [
    {
     "name": "stdout",
     "output_type": "stream",
     "text": [
      "Enter withdraw amount : 15000\n",
      "please take your amount : \n"
     ]
    }
   ],
   "source": [
    "a.Fast_Cash()"
   ]
  },
  {
   "cell_type": "code",
   "execution_count": 12,
   "id": "531d0e25",
   "metadata": {},
   "outputs": [
    {
     "name": "stdout",
     "output_type": "stream",
     "text": [
      "Enter your pin : 1212\n",
      "20000\n"
     ]
    }
   ],
   "source": [
    "a.Balance_Enquiry()"
   ]
  },
  {
   "cell_type": "code",
   "execution_count": null,
   "id": "a5ce5c27",
   "metadata": {},
   "outputs": [],
   "source": []
  },
  {
   "cell_type": "code",
   "execution_count": 13,
   "id": "438d0122",
   "metadata": {},
   "outputs": [
    {
     "name": "stdout",
     "output_type": "stream",
     "text": [
      "Welcome to State bank of India\n",
      "Enter your 4 digit pin Number : 1212\n",
      "Please choose transactions : \n",
      "1 : Withdrow \n",
      "2 : Balance Enquiry \n",
      "3 : Fast Cash \n",
      "4 : Please choose transaction:2\n",
      "\n",
      "Your Balance is : 50000\n"
     ]
    }
   ],
   "source": [
    "print('Welcome to State bank of India')\n",
    "\n",
    "Balance = 50000\n",
    "\n",
    "name = int(input(\"Enter your 4 digit pin Number : \"))\n",
    "\n",
    "choice = int(input(\"Please choose transactions : \\n1 : Withdrow \\n2 : Balance Enquiry \\n3 : Fast Cash \\n4 : Please choose transaction:\"))\n",
    "\n",
    "if choice==1:\n",
    "    p = int(input(\"\\nEnter withdraw amount : \"))\n",
    "    Balance = Balance-p\n",
    "    print(\"Please take your amount :\", p, \"\\nBalance :\",Balance)\n",
    "elif choice==2:\n",
    "    print(\"\\nYour Balance is :\", Balance)\n",
    "elif choice==3:\n",
    "    pass\n",
    "else:\n",
    "    print(\"Invalid Choice\")"
   ]
  },
  {
   "cell_type": "markdown",
   "id": "d4216c88",
   "metadata": {},
   "source": [
    "4. Tests whether a data sample has a Gaussian distribution.\n",
    "a)\tGenerate the data, form H0 and H1 and write python code to test the Normality        \n"
   ]
  },
  {
   "cell_type": "code",
   "execution_count": null,
   "id": "12753d96",
   "metadata": {},
   "outputs": [],
   "source": []
  },
  {
   "cell_type": "markdown",
   "id": "12fc0354",
   "metadata": {},
   "source": [
    "5.The objective of this project is to explore a dataset containing customer information for treadmill products for a retail store called Cardio Good Fitness."
   ]
  },
  {
   "cell_type": "code",
   "execution_count": 14,
   "id": "aa099939",
   "metadata": {},
   "outputs": [],
   "source": [
    "import seaborn as sns\n",
    "import pandas as pd\n",
    "import numpy as np\n",
    "import matplotlib.pyplot as plt \n",
    "%matplotlib inline\n",
    "import pylab\n",
    "import scipy.stats as stats"
   ]
  },
  {
   "cell_type": "code",
   "execution_count": 15,
   "id": "7a1889d7",
   "metadata": {},
   "outputs": [],
   "source": [
    "df=pd.read_csv(\"CardioGoodFitness.csv\")"
   ]
  },
  {
   "cell_type": "code",
   "execution_count": 16,
   "id": "f9c1298a",
   "metadata": {},
   "outputs": [
    {
     "data": {
      "text/html": [
       "<div>\n",
       "<style scoped>\n",
       "    .dataframe tbody tr th:only-of-type {\n",
       "        vertical-align: middle;\n",
       "    }\n",
       "\n",
       "    .dataframe tbody tr th {\n",
       "        vertical-align: top;\n",
       "    }\n",
       "\n",
       "    .dataframe thead th {\n",
       "        text-align: right;\n",
       "    }\n",
       "</style>\n",
       "<table border=\"1\" class=\"dataframe\">\n",
       "  <thead>\n",
       "    <tr style=\"text-align: right;\">\n",
       "      <th></th>\n",
       "      <th>Product</th>\n",
       "      <th>Age</th>\n",
       "      <th>Gender</th>\n",
       "      <th>Education</th>\n",
       "      <th>MaritalStatus</th>\n",
       "      <th>Usage</th>\n",
       "      <th>Fitness</th>\n",
       "      <th>Income</th>\n",
       "      <th>Miles</th>\n",
       "    </tr>\n",
       "  </thead>\n",
       "  <tbody>\n",
       "    <tr>\n",
       "      <th>0</th>\n",
       "      <td>TM195</td>\n",
       "      <td>18</td>\n",
       "      <td>Male</td>\n",
       "      <td>14</td>\n",
       "      <td>Single</td>\n",
       "      <td>3</td>\n",
       "      <td>4</td>\n",
       "      <td>29562</td>\n",
       "      <td>112</td>\n",
       "    </tr>\n",
       "    <tr>\n",
       "      <th>1</th>\n",
       "      <td>TM195</td>\n",
       "      <td>19</td>\n",
       "      <td>Male</td>\n",
       "      <td>15</td>\n",
       "      <td>Single</td>\n",
       "      <td>2</td>\n",
       "      <td>3</td>\n",
       "      <td>31836</td>\n",
       "      <td>75</td>\n",
       "    </tr>\n",
       "    <tr>\n",
       "      <th>2</th>\n",
       "      <td>TM195</td>\n",
       "      <td>19</td>\n",
       "      <td>Female</td>\n",
       "      <td>14</td>\n",
       "      <td>Partnered</td>\n",
       "      <td>4</td>\n",
       "      <td>3</td>\n",
       "      <td>30699</td>\n",
       "      <td>66</td>\n",
       "    </tr>\n",
       "    <tr>\n",
       "      <th>3</th>\n",
       "      <td>TM195</td>\n",
       "      <td>19</td>\n",
       "      <td>Male</td>\n",
       "      <td>12</td>\n",
       "      <td>Single</td>\n",
       "      <td>3</td>\n",
       "      <td>3</td>\n",
       "      <td>32973</td>\n",
       "      <td>85</td>\n",
       "    </tr>\n",
       "    <tr>\n",
       "      <th>4</th>\n",
       "      <td>TM195</td>\n",
       "      <td>20</td>\n",
       "      <td>Male</td>\n",
       "      <td>13</td>\n",
       "      <td>Partnered</td>\n",
       "      <td>4</td>\n",
       "      <td>2</td>\n",
       "      <td>35247</td>\n",
       "      <td>47</td>\n",
       "    </tr>\n",
       "  </tbody>\n",
       "</table>\n",
       "</div>"
      ],
      "text/plain": [
       "  Product  Age  Gender  Education MaritalStatus  Usage  Fitness  Income  Miles\n",
       "0   TM195   18    Male         14        Single      3        4   29562    112\n",
       "1   TM195   19    Male         15        Single      2        3   31836     75\n",
       "2   TM195   19  Female         14     Partnered      4        3   30699     66\n",
       "3   TM195   19    Male         12        Single      3        3   32973     85\n",
       "4   TM195   20    Male         13     Partnered      4        2   35247     47"
      ]
     },
     "execution_count": 16,
     "metadata": {},
     "output_type": "execute_result"
    }
   ],
   "source": [
    "df.head()"
   ]
  },
  {
   "cell_type": "code",
   "execution_count": 17,
   "id": "7cd5fbb4",
   "metadata": {},
   "outputs": [
    {
     "data": {
      "text/html": [
       "<div>\n",
       "<style scoped>\n",
       "    .dataframe tbody tr th:only-of-type {\n",
       "        vertical-align: middle;\n",
       "    }\n",
       "\n",
       "    .dataframe tbody tr th {\n",
       "        vertical-align: top;\n",
       "    }\n",
       "\n",
       "    .dataframe thead th {\n",
       "        text-align: right;\n",
       "    }\n",
       "</style>\n",
       "<table border=\"1\" class=\"dataframe\">\n",
       "  <thead>\n",
       "    <tr style=\"text-align: right;\">\n",
       "      <th></th>\n",
       "      <th>Product</th>\n",
       "      <th>Age</th>\n",
       "      <th>Gender</th>\n",
       "      <th>Education</th>\n",
       "      <th>MaritalStatus</th>\n",
       "      <th>Usage</th>\n",
       "      <th>Fitness</th>\n",
       "      <th>Income</th>\n",
       "      <th>Miles</th>\n",
       "    </tr>\n",
       "  </thead>\n",
       "  <tbody>\n",
       "    <tr>\n",
       "      <th>175</th>\n",
       "      <td>TM798</td>\n",
       "      <td>40</td>\n",
       "      <td>Male</td>\n",
       "      <td>21</td>\n",
       "      <td>Single</td>\n",
       "      <td>6</td>\n",
       "      <td>5</td>\n",
       "      <td>83416</td>\n",
       "      <td>200</td>\n",
       "    </tr>\n",
       "    <tr>\n",
       "      <th>176</th>\n",
       "      <td>TM798</td>\n",
       "      <td>42</td>\n",
       "      <td>Male</td>\n",
       "      <td>18</td>\n",
       "      <td>Single</td>\n",
       "      <td>5</td>\n",
       "      <td>4</td>\n",
       "      <td>89641</td>\n",
       "      <td>200</td>\n",
       "    </tr>\n",
       "    <tr>\n",
       "      <th>177</th>\n",
       "      <td>TM798</td>\n",
       "      <td>45</td>\n",
       "      <td>Male</td>\n",
       "      <td>16</td>\n",
       "      <td>Single</td>\n",
       "      <td>5</td>\n",
       "      <td>5</td>\n",
       "      <td>90886</td>\n",
       "      <td>160</td>\n",
       "    </tr>\n",
       "    <tr>\n",
       "      <th>178</th>\n",
       "      <td>TM798</td>\n",
       "      <td>47</td>\n",
       "      <td>Male</td>\n",
       "      <td>18</td>\n",
       "      <td>Partnered</td>\n",
       "      <td>4</td>\n",
       "      <td>5</td>\n",
       "      <td>104581</td>\n",
       "      <td>120</td>\n",
       "    </tr>\n",
       "    <tr>\n",
       "      <th>179</th>\n",
       "      <td>TM798</td>\n",
       "      <td>48</td>\n",
       "      <td>Male</td>\n",
       "      <td>18</td>\n",
       "      <td>Partnered</td>\n",
       "      <td>4</td>\n",
       "      <td>5</td>\n",
       "      <td>95508</td>\n",
       "      <td>180</td>\n",
       "    </tr>\n",
       "  </tbody>\n",
       "</table>\n",
       "</div>"
      ],
      "text/plain": [
       "    Product  Age Gender  Education MaritalStatus  Usage  Fitness  Income  \\\n",
       "175   TM798   40   Male         21        Single      6        5   83416   \n",
       "176   TM798   42   Male         18        Single      5        4   89641   \n",
       "177   TM798   45   Male         16        Single      5        5   90886   \n",
       "178   TM798   47   Male         18     Partnered      4        5  104581   \n",
       "179   TM798   48   Male         18     Partnered      4        5   95508   \n",
       "\n",
       "     Miles  \n",
       "175    200  \n",
       "176    200  \n",
       "177    160  \n",
       "178    120  \n",
       "179    180  "
      ]
     },
     "execution_count": 17,
     "metadata": {},
     "output_type": "execute_result"
    }
   ],
   "source": [
    "df.tail()"
   ]
  },
  {
   "cell_type": "code",
   "execution_count": 18,
   "id": "a4952e3f",
   "metadata": {},
   "outputs": [
    {
     "name": "stdout",
     "output_type": "stream",
     "text": [
      "<class 'pandas.core.frame.DataFrame'>\n",
      "RangeIndex: 180 entries, 0 to 179\n",
      "Data columns (total 9 columns):\n",
      " #   Column         Non-Null Count  Dtype \n",
      "---  ------         --------------  ----- \n",
      " 0   Product        180 non-null    object\n",
      " 1   Age            180 non-null    int64 \n",
      " 2   Gender         180 non-null    object\n",
      " 3   Education      180 non-null    int64 \n",
      " 4   MaritalStatus  180 non-null    object\n",
      " 5   Usage          180 non-null    int64 \n",
      " 6   Fitness        180 non-null    int64 \n",
      " 7   Income         180 non-null    int64 \n",
      " 8   Miles          180 non-null    int64 \n",
      "dtypes: int64(6), object(3)\n",
      "memory usage: 12.8+ KB\n"
     ]
    }
   ],
   "source": [
    "df.info()"
   ]
  },
  {
   "cell_type": "code",
   "execution_count": 19,
   "id": "2372db66",
   "metadata": {},
   "outputs": [
    {
     "data": {
      "text/html": [
       "<div>\n",
       "<style scoped>\n",
       "    .dataframe tbody tr th:only-of-type {\n",
       "        vertical-align: middle;\n",
       "    }\n",
       "\n",
       "    .dataframe tbody tr th {\n",
       "        vertical-align: top;\n",
       "    }\n",
       "\n",
       "    .dataframe thead th {\n",
       "        text-align: right;\n",
       "    }\n",
       "</style>\n",
       "<table border=\"1\" class=\"dataframe\">\n",
       "  <thead>\n",
       "    <tr style=\"text-align: right;\">\n",
       "      <th></th>\n",
       "      <th>Age</th>\n",
       "      <th>Education</th>\n",
       "      <th>Usage</th>\n",
       "      <th>Fitness</th>\n",
       "      <th>Income</th>\n",
       "      <th>Miles</th>\n",
       "    </tr>\n",
       "  </thead>\n",
       "  <tbody>\n",
       "    <tr>\n",
       "      <th>count</th>\n",
       "      <td>180.000000</td>\n",
       "      <td>180.000000</td>\n",
       "      <td>180.000000</td>\n",
       "      <td>180.000000</td>\n",
       "      <td>180.000000</td>\n",
       "      <td>180.000000</td>\n",
       "    </tr>\n",
       "    <tr>\n",
       "      <th>mean</th>\n",
       "      <td>28.788889</td>\n",
       "      <td>15.572222</td>\n",
       "      <td>3.455556</td>\n",
       "      <td>3.311111</td>\n",
       "      <td>53719.577778</td>\n",
       "      <td>103.194444</td>\n",
       "    </tr>\n",
       "    <tr>\n",
       "      <th>std</th>\n",
       "      <td>6.943498</td>\n",
       "      <td>1.617055</td>\n",
       "      <td>1.084797</td>\n",
       "      <td>0.958869</td>\n",
       "      <td>16506.684226</td>\n",
       "      <td>51.863605</td>\n",
       "    </tr>\n",
       "    <tr>\n",
       "      <th>min</th>\n",
       "      <td>18.000000</td>\n",
       "      <td>12.000000</td>\n",
       "      <td>2.000000</td>\n",
       "      <td>1.000000</td>\n",
       "      <td>29562.000000</td>\n",
       "      <td>21.000000</td>\n",
       "    </tr>\n",
       "    <tr>\n",
       "      <th>25%</th>\n",
       "      <td>24.000000</td>\n",
       "      <td>14.000000</td>\n",
       "      <td>3.000000</td>\n",
       "      <td>3.000000</td>\n",
       "      <td>44058.750000</td>\n",
       "      <td>66.000000</td>\n",
       "    </tr>\n",
       "    <tr>\n",
       "      <th>50%</th>\n",
       "      <td>26.000000</td>\n",
       "      <td>16.000000</td>\n",
       "      <td>3.000000</td>\n",
       "      <td>3.000000</td>\n",
       "      <td>50596.500000</td>\n",
       "      <td>94.000000</td>\n",
       "    </tr>\n",
       "    <tr>\n",
       "      <th>75%</th>\n",
       "      <td>33.000000</td>\n",
       "      <td>16.000000</td>\n",
       "      <td>4.000000</td>\n",
       "      <td>4.000000</td>\n",
       "      <td>58668.000000</td>\n",
       "      <td>114.750000</td>\n",
       "    </tr>\n",
       "    <tr>\n",
       "      <th>max</th>\n",
       "      <td>50.000000</td>\n",
       "      <td>21.000000</td>\n",
       "      <td>7.000000</td>\n",
       "      <td>5.000000</td>\n",
       "      <td>104581.000000</td>\n",
       "      <td>360.000000</td>\n",
       "    </tr>\n",
       "  </tbody>\n",
       "</table>\n",
       "</div>"
      ],
      "text/plain": [
       "              Age   Education       Usage     Fitness         Income  \\\n",
       "count  180.000000  180.000000  180.000000  180.000000     180.000000   \n",
       "mean    28.788889   15.572222    3.455556    3.311111   53719.577778   \n",
       "std      6.943498    1.617055    1.084797    0.958869   16506.684226   \n",
       "min     18.000000   12.000000    2.000000    1.000000   29562.000000   \n",
       "25%     24.000000   14.000000    3.000000    3.000000   44058.750000   \n",
       "50%     26.000000   16.000000    3.000000    3.000000   50596.500000   \n",
       "75%     33.000000   16.000000    4.000000    4.000000   58668.000000   \n",
       "max     50.000000   21.000000    7.000000    5.000000  104581.000000   \n",
       "\n",
       "            Miles  \n",
       "count  180.000000  \n",
       "mean   103.194444  \n",
       "std     51.863605  \n",
       "min     21.000000  \n",
       "25%     66.000000  \n",
       "50%     94.000000  \n",
       "75%    114.750000  \n",
       "max    360.000000  "
      ]
     },
     "execution_count": 19,
     "metadata": {},
     "output_type": "execute_result"
    }
   ],
   "source": [
    "df.describe()"
   ]
  },
  {
   "cell_type": "code",
   "execution_count": 20,
   "id": "8ac6568b",
   "metadata": {},
   "outputs": [
    {
     "data": {
      "text/plain": [
       "(180, 9)"
      ]
     },
     "execution_count": 20,
     "metadata": {},
     "output_type": "execute_result"
    }
   ],
   "source": [
    "df.shape"
   ]
  },
  {
   "cell_type": "code",
   "execution_count": 21,
   "id": "af1ea71c",
   "metadata": {},
   "outputs": [
    {
     "data": {
      "text/plain": [
       "Product          0\n",
       "Age              0\n",
       "Gender           0\n",
       "Education        0\n",
       "MaritalStatus    0\n",
       "Usage            0\n",
       "Fitness          0\n",
       "Income           0\n",
       "Miles            0\n",
       "dtype: int64"
      ]
     },
     "execution_count": 21,
     "metadata": {},
     "output_type": "execute_result"
    }
   ],
   "source": [
    "df.isna().sum()"
   ]
  },
  {
   "cell_type": "code",
   "execution_count": 22,
   "id": "de47dafc",
   "metadata": {},
   "outputs": [
    {
     "data": {
      "text/plain": [
       "Product          object\n",
       "Age               int64\n",
       "Gender           object\n",
       "Education         int64\n",
       "MaritalStatus    object\n",
       "Usage             int64\n",
       "Fitness           int64\n",
       "Income            int64\n",
       "Miles             int64\n",
       "dtype: object"
      ]
     },
     "execution_count": 22,
     "metadata": {},
     "output_type": "execute_result"
    }
   ],
   "source": [
    "df.dtypes"
   ]
  },
  {
   "cell_type": "markdown",
   "id": "b2d66be6",
   "metadata": {},
   "source": [
    "a. Perform descriptive statistics"
   ]
  },
  {
   "cell_type": "code",
   "execution_count": 23,
   "id": "93ca8117",
   "metadata": {},
   "outputs": [
    {
     "data": {
      "text/html": [
       "<div>\n",
       "<style scoped>\n",
       "    .dataframe tbody tr th:only-of-type {\n",
       "        vertical-align: middle;\n",
       "    }\n",
       "\n",
       "    .dataframe tbody tr th {\n",
       "        vertical-align: top;\n",
       "    }\n",
       "\n",
       "    .dataframe thead th {\n",
       "        text-align: right;\n",
       "    }\n",
       "</style>\n",
       "<table border=\"1\" class=\"dataframe\">\n",
       "  <thead>\n",
       "    <tr style=\"text-align: right;\">\n",
       "      <th></th>\n",
       "      <th>Age</th>\n",
       "      <th>Education</th>\n",
       "      <th>Usage</th>\n",
       "      <th>Fitness</th>\n",
       "      <th>Income</th>\n",
       "      <th>Miles</th>\n",
       "    </tr>\n",
       "  </thead>\n",
       "  <tbody>\n",
       "    <tr>\n",
       "      <th>count</th>\n",
       "      <td>180.000000</td>\n",
       "      <td>180.000000</td>\n",
       "      <td>180.000000</td>\n",
       "      <td>180.000000</td>\n",
       "      <td>180.000000</td>\n",
       "      <td>180.000000</td>\n",
       "    </tr>\n",
       "    <tr>\n",
       "      <th>mean</th>\n",
       "      <td>28.788889</td>\n",
       "      <td>15.572222</td>\n",
       "      <td>3.455556</td>\n",
       "      <td>3.311111</td>\n",
       "      <td>53719.577778</td>\n",
       "      <td>103.194444</td>\n",
       "    </tr>\n",
       "    <tr>\n",
       "      <th>std</th>\n",
       "      <td>6.943498</td>\n",
       "      <td>1.617055</td>\n",
       "      <td>1.084797</td>\n",
       "      <td>0.958869</td>\n",
       "      <td>16506.684226</td>\n",
       "      <td>51.863605</td>\n",
       "    </tr>\n",
       "    <tr>\n",
       "      <th>min</th>\n",
       "      <td>18.000000</td>\n",
       "      <td>12.000000</td>\n",
       "      <td>2.000000</td>\n",
       "      <td>1.000000</td>\n",
       "      <td>29562.000000</td>\n",
       "      <td>21.000000</td>\n",
       "    </tr>\n",
       "    <tr>\n",
       "      <th>25%</th>\n",
       "      <td>24.000000</td>\n",
       "      <td>14.000000</td>\n",
       "      <td>3.000000</td>\n",
       "      <td>3.000000</td>\n",
       "      <td>44058.750000</td>\n",
       "      <td>66.000000</td>\n",
       "    </tr>\n",
       "    <tr>\n",
       "      <th>50%</th>\n",
       "      <td>26.000000</td>\n",
       "      <td>16.000000</td>\n",
       "      <td>3.000000</td>\n",
       "      <td>3.000000</td>\n",
       "      <td>50596.500000</td>\n",
       "      <td>94.000000</td>\n",
       "    </tr>\n",
       "    <tr>\n",
       "      <th>75%</th>\n",
       "      <td>33.000000</td>\n",
       "      <td>16.000000</td>\n",
       "      <td>4.000000</td>\n",
       "      <td>4.000000</td>\n",
       "      <td>58668.000000</td>\n",
       "      <td>114.750000</td>\n",
       "    </tr>\n",
       "    <tr>\n",
       "      <th>max</th>\n",
       "      <td>50.000000</td>\n",
       "      <td>21.000000</td>\n",
       "      <td>7.000000</td>\n",
       "      <td>5.000000</td>\n",
       "      <td>104581.000000</td>\n",
       "      <td>360.000000</td>\n",
       "    </tr>\n",
       "  </tbody>\n",
       "</table>\n",
       "</div>"
      ],
      "text/plain": [
       "              Age   Education       Usage     Fitness         Income  \\\n",
       "count  180.000000  180.000000  180.000000  180.000000     180.000000   \n",
       "mean    28.788889   15.572222    3.455556    3.311111   53719.577778   \n",
       "std      6.943498    1.617055    1.084797    0.958869   16506.684226   \n",
       "min     18.000000   12.000000    2.000000    1.000000   29562.000000   \n",
       "25%     24.000000   14.000000    3.000000    3.000000   44058.750000   \n",
       "50%     26.000000   16.000000    3.000000    3.000000   50596.500000   \n",
       "75%     33.000000   16.000000    4.000000    4.000000   58668.000000   \n",
       "max     50.000000   21.000000    7.000000    5.000000  104581.000000   \n",
       "\n",
       "            Miles  \n",
       "count  180.000000  \n",
       "mean   103.194444  \n",
       "std     51.863605  \n",
       "min     21.000000  \n",
       "25%     66.000000  \n",
       "50%     94.000000  \n",
       "75%    114.750000  \n",
       "max    360.000000  "
      ]
     },
     "execution_count": 23,
     "metadata": {},
     "output_type": "execute_result"
    }
   ],
   "source": [
    "df.describe()"
   ]
  },
  {
   "cell_type": "code",
   "execution_count": null,
   "id": "7bb87944",
   "metadata": {},
   "outputs": [],
   "source": []
  },
  {
   "cell_type": "markdown",
   "id": "b8511a40",
   "metadata": {},
   "source": [
    "b. Which gender has better fitness levels?\n",
    "\n",
    "Ans : Male has better fitness level. refer.below chart for better understanding"
   ]
  },
  {
   "cell_type": "code",
   "execution_count": 24,
   "id": "b8902c20",
   "metadata": {},
   "outputs": [
    {
     "data": {
      "text/plain": [
       "Male      104\n",
       "Female     76\n",
       "Name: Gender, dtype: int64"
      ]
     },
     "execution_count": 24,
     "metadata": {},
     "output_type": "execute_result"
    }
   ],
   "source": [
    "df.Gender.value_counts()"
   ]
  },
  {
   "cell_type": "code",
   "execution_count": 25,
   "id": "ce9f187c",
   "metadata": {},
   "outputs": [
    {
     "data": {
      "image/png": "[encoded data removed]",
      "text/plain": [
       "<Figure size 640x480 with 1 Axes>"
      ]
     },
     "metadata": {},
     "output_type": "display_data"
    }
   ],
   "source": [
    "# b.Which gender has better fitness levels?\n",
    "\n",
    "x =df['Gender']\n",
    "\n",
    "# bins =no of equals -width-bins\n",
    "# color : for changing the face color\n",
    "# edge color : color of the edge\n",
    "# Linestyle : for the edge lines\n",
    "# Appha blending values, between 0(transparent) and 1 (OCUQUE)\n",
    " \n",
    "\n",
    "\n",
    "plt.hist(x,bins =15,color ='yellow',edgecolor = 'red',linestyle = '--',alpha = 0.5)\n",
    "plt.title(\"Gender Fitness Levels\")\n",
    "plt.ylabel(\"Fitness\")\n",
    "plt.xlabel('Gender')\n",
    "plt.show()"
   ]
  },
  {
   "cell_type": "markdown",
   "id": "b81a8830",
   "metadata": {},
   "source": [
    "c.Which is the most popular product among all?\n",
    "\n",
    "Ans : The TM195 product is most populat product as compare to other products."
   ]
  },
  {
   "cell_type": "code",
   "execution_count": 26,
   "id": "77250738",
   "metadata": {},
   "outputs": [
    {
     "data": {
      "text/plain": [
       "TM195    80\n",
       "TM498    60\n",
       "TM798    40\n",
       "Name: Product, dtype: int64"
      ]
     },
     "execution_count": 26,
     "metadata": {},
     "output_type": "execute_result"
    }
   ],
   "source": [
    "df.Product.value_counts()"
   ]
  },
  {
   "cell_type": "code",
   "execution_count": 27,
   "id": "45112109",
   "metadata": {},
   "outputs": [
    {
     "data": {
      "text/plain": [
       "<AxesSubplot:xlabel='Product', ylabel='count'>"
      ]
     },
     "execution_count": 27,
     "metadata": {},
     "output_type": "execute_result"
    },
    {
     "data": {
      "image/png": "[encoded data removed]",
      "text/plain": [
       "<Figure size 640x480 with 1 Axes>"
      ]
     },
     "metadata": {},
     "output_type": "display_data"
    }
   ],
   "source": [
    "sns.countplot(x= 'Product',data =df)"
   ]
  },
  {
   "cell_type": "markdown",
   "id": "0cdbc48d",
   "metadata": {},
   "source": [
    "d. Who is more fit? Married or singles\n",
    "\n",
    "Ans - Martied are more fit as compared to single .please refer the below graph for better understanding."
   ]
  },
  {
   "cell_type": "code",
   "execution_count": 28,
   "id": "b5516c21",
   "metadata": {},
   "outputs": [
    {
     "data": {
      "text/plain": [
       "Partnered    107\n",
       "Single        73\n",
       "Name: MaritalStatus, dtype: int64"
      ]
     },
     "execution_count": 28,
     "metadata": {},
     "output_type": "execute_result"
    }
   ],
   "source": [
    "df.MaritalStatus.value_counts()  "
   ]
  },
  {
   "cell_type": "code",
   "execution_count": 29,
   "id": "61714566",
   "metadata": {},
   "outputs": [
    {
     "data": {
      "image/png": "[encoded data removed]",
      "text/plain": [
       "<Figure size 640x480 with 1 Axes>"
      ]
     },
     "metadata": {},
     "output_type": "display_data"
    }
   ],
   "source": [
    "# d. Who is more fit? Married or singles\n",
    "x =df['MaritalStatus']\n",
    "\n",
    "# bins =no of equals -width-bins\n",
    "# color : for changing the face color\n",
    "# edge color : color of the edge\n",
    "# Linestyle : for the edge lines\n",
    "# Appha blending values, between 0(transparent) and 1 (OCUQUE)\n",
    " \n",
    "\n",
    "\n",
    "plt.hist(x,bins =15,color ='purple',edgecolor = 'yellow',linestyle = '--',alpha = 0.8)\n",
    "plt.title(\"Marital V/S Single Fitness Levels\")\n",
    "plt.ylabel(\"Fitness\")\n",
    "plt.xlabel('MaritalStatus')\n",
    "plt.show()\n"
   ]
  },
  {
   "cell_type": "markdown",
   "id": "24241821",
   "metadata": {},
   "source": [
    "e.Which is the most favourite product of the customers below the age of 40?"
   ]
  },
  {
   "cell_type": "code",
   "execution_count": 30,
   "id": "92cdefdd",
   "metadata": {},
   "outputs": [
    {
     "data": {
      "text/plain": [
       "<AxesSubplot:xlabel='Product', ylabel='count'>"
      ]
     },
     "execution_count": 30,
     "metadata": {},
     "output_type": "execute_result"
    },
    {
     "data": {
      "image/png": "[encoded data removed]",
      "text/plain": [
       "<Figure size 640x480 with 1 Axes>"
      ]
     },
     "metadata": {},
     "output_type": "display_data"
    }
   ],
   "source": [
    "sns.countplot(x ='Product',hue = 'Age',data = df,palette ='Set3')"
   ]
  },
  {
   "cell_type": "code",
   "execution_count": 31,
   "id": "3e97ba7c",
   "metadata": {},
   "outputs": [
    {
     "name": "stdout",
     "output_type": "stream",
     "text": [
      "Favourite product below age 40 is  TM195\n"
     ]
    }
   ],
   "source": [
    "fav_product_below_40 = df[df['Age']<40]['Product'].mode()[0]\n",
    "print(\"Favourite product below age 40 is \", fav_product_below_40)"
   ]
  },
  {
   "cell_type": "code",
   "execution_count": null,
   "id": "27bdd68b",
   "metadata": {},
   "outputs": [],
   "source": []
  },
  {
   "cell_type": "markdown",
   "id": "463b3a50",
   "metadata": {},
   "source": [
    "6. Python Program to Make a Simple Calculator "
   ]
  },
  {
   "cell_type": "code",
   "execution_count": 32,
   "id": "863b2071",
   "metadata": {},
   "outputs": [
    {
     "name": "stdout",
     "output_type": "stream",
     "text": [
      "\n",
      "Choose the Operation.\n",
      "1.Addition\n",
      "2.Subtraction\n",
      "3.Multiplication\n",
      "4.Division\n",
      "Select the Operation which perform (1/2/3/4): 1\n",
      "\n",
      "Enter your  first number: 2\n",
      "Enter your second number: 4\n",
      "2.0 + 4.0 = 6.0\n",
      " \n",
      "If you want to do next calculation ? (Yes/No): yes\n",
      "Select the Operation which perform (1/2/3/4): 2\n",
      "\n",
      "Enter your  first number: 2\n",
      "Enter your second number: 4\n",
      "2.0 - 4.0 = -2.0\n",
      " \n",
      "If you want to do next calculation ? (Yes/No): yes\n",
      "Select the Operation which perform (1/2/3/4): 3\n",
      "\n",
      "Enter your  first number: 2\n",
      "Enter your second number: 4\n",
      "2.0 * 4.0 = 8.0\n",
      " \n",
      "If you want to do next calculation ? (Yes/No): yes\n",
      "Select the Operation which perform (1/2/3/4): 4\n",
      "\n",
      "Enter your  first number: 2\n",
      "Enter your second number: 4\n",
      "2.0 / 4.0 = 0.5\n",
      " \n",
      "If you want to do next calculation ? (Yes/No): No\n"
     ]
    }
   ],
   "source": [
    "# Simple Calculator\n",
    "\n",
    "# This function adds two numbers\n",
    "def addition(a, b):\n",
    "    return a + b\n",
    "\n",
    "# This function subtracts two numbers\n",
    "def subtraction(a, b):\n",
    "    return a - b\n",
    "\n",
    "# This function multiplies two numbers\n",
    "def multiplication(a, b):\n",
    "    return a * b\n",
    "\n",
    "# This function divides two numbers\n",
    "def division(a, b):\n",
    "    return a / b\n",
    "\n",
    "\n",
    "print(\"\\nChoose the Operation.\")\n",
    "print(\"1.Addition\")\n",
    "print(\"2.Subtraction\")\n",
    "print(\"3.Multiplication\")\n",
    "print(\"4.Division\")\n",
    "\n",
    "while True:\n",
    "    # take input from the user\n",
    "    choice = input(\"Select the Operation which perform (1/2/3/4): \")\n",
    "\n",
    "    # check if choice is one of the four options\n",
    "    if choice in ('1', '2', '3', '4'):\n",
    "        try:\n",
    "            n1 = float(input(\"\\nEnter your  first number: \"))\n",
    "            n2 = float(input(\"Enter your second number: \"))\n",
    "        except ValueError:\n",
    "            print(\"Invalid number. Please enter a correct  number.\")\n",
    "            continue\n",
    "\n",
    "        if choice == '1':\n",
    "            print(n1, \"+\", n2, \"=\", addition(n1, n2))\n",
    "\n",
    "        elif choice == '2':\n",
    "            print(n1, \"-\", n2, \"=\", subtraction(n1, n2))\n",
    "\n",
    "        elif choice == '3':\n",
    "            print(n1, \"*\", n2, \"=\", multiplication(n1, n2))\n",
    "\n",
    "        elif choice == '4':\n",
    "            print(n1, \"/\", n2, \"=\", division(n1, n2))\n",
    "        \n",
    "# Check if user wants to perform another calculation operation.\n",
    "# Break the while loop if answer is \"No\"\n",
    "        next_calculation = input(\" \\nIf you want to do next calculation ? (Yes/No): \")\n",
    "    \n",
    "        if next_calculation == \"No\":\n",
    "            break\n",
    "    else:\n",
    "        print(\"Invalid Input\")"
   ]
  },
  {
   "cell_type": "code",
   "execution_count": null,
   "id": "e2806474",
   "metadata": {},
   "outputs": [],
   "source": []
  }
 ],
 "metadata": {
  "kernelspec": {
   "display_name": "Python 3 (ipykernel)",
   "language": "python",
   "name": "python3"
  },
  "language_info": {
   "codemirror_mode": {
    "name": "ipython",
    "version": 3
   },
   "file_extension": ".py",
   "mimetype": "text/x-python",
   "name": "python",
   "nbconvert_exporter": "python",
   "pygments_lexer": "ipython3",
   "version": "3.9.13"
  }
 },
 "nbformat": 4,
 "nbformat_minor": 5
}
